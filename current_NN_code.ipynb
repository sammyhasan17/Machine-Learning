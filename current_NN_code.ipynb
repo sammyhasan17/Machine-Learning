{
  "cells": [
    {
      "cell_type": "markdown",
      "metadata": {
        "id": "view-in-github",
        "colab_type": "text"
      },
      "source": [
        "<a href=\"https://colab.research.google.com/github/sammyhasan17/Machine-Learning/blob/main/current_NN_code.ipynb\" target=\"_parent\"><img src=\"https://colab.research.google.com/assets/colab-badge.svg\" alt=\"Open In Colab\"/></a>"
      ]
    },
    {
      "cell_type": "markdown",
      "source": [
        "# Logistical Regression part"
      ],
      "metadata": {
        "id": "FE2XCNqVFMOO"
      },
      "id": "FE2XCNqVFMOO"
    },
    {
      "cell_type": "code",
      "source": [
        "# Logisti Regression part:\n",
        "# Sammy Hasan-Silva\n",
        "# Machine Learning\n",
        "\n",
        "from sklearn.datasets import load_breast_cancer\n",
        "import pandas as pd\n",
        "from sklearn.linear_model import LogisticRegression\n",
        "from sklearn.model_selection import train_test_split\n",
        "\n",
        "data = load_breast_cancer()\n",
        "\n",
        "# Create a DataFrame with the feature data and class labels\n",
        "X = pd.DataFrame(data.data, columns=data.feature_names)\n",
        "y = pd.Series(data.target)\n",
        "\n",
        "# Split the data into training and test sets\n",
        "X_train, X_test, y_train, y_test = train_test_split(X, y, test_size=0.3, random_state=42)\n",
        "\n",
        "# Train a logistic regression model with L2 regularization\n",
        "model = LogisticRegression(penalty='l2', C=0.1)\n",
        "model.fit(X_train, y_train)\n",
        "\n",
        "# Evaluate the model on the test data\n",
        "accuracy = model.score(X_test, y_test)\n",
        "print(\"Test accuracy:\", accuracy)\n",
        "\n",
        "# not full iterations to prevent overfitting"
      ],
      "metadata": {
        "id": "2FL_xGdkFAH7"
      },
      "id": "2FL_xGdkFAH7",
      "execution_count": null,
      "outputs": []
    },
    {
      "cell_type": "markdown",
      "source": [
        "# Below is the NN part"
      ],
      "metadata": {
        "id": "OGz4CENRFFXA"
      },
      "id": "OGz4CENRFFXA"
    },
    {
      "cell_type": "code",
      "execution_count": 6,
      "id": "5e38b4c2",
      "metadata": {
        "id": "5e38b4c2"
      },
      "outputs": [],
      "source": [
        "# Sammy Hasan-Silva\n",
        "# Machine Learning\n",
        "\n",
        "\n",
        "import numpy as np\n",
        "import numpy\n",
        "import pandas as pd\n",
        "import random\n",
        "import math\n",
        "from sklearn.model_selection import train_test_split\n",
        "import matplotlib.pyplot as plt\n",
        "import scipy.special"
      ]
    },
    {
      "cell_type": "code",
      "execution_count": 7,
      "id": "4962a300",
      "metadata": {
        "id": "4962a300"
      },
      "outputs": [],
      "source": [
        "class neuralNetwork:\n",
        "    \n",
        "    \n",
        "    # initialise the neural network\n",
        "    def __init__(self, inputnodes, hiddennodes, outputnodes, learningrate):\n",
        "        # set number of nodes in each input, hidden, output layer\n",
        "        self.inodes = inputnodes\n",
        "        self.hnodes = hiddennodes\n",
        "        self.onodes = outputnodes\n",
        "        \n",
        "        \n",
        "        self.wih = numpy.random.normal(0.0, pow(self.inodes, -0.5), (self.hnodes, self.inodes))\n",
        "        self.who = numpy.random.normal(0.0, pow(self.hnodes, -0.5), (self.onodes, self.hnodes))\n",
        "\n",
        "        \n",
        "        self.lr = learningrate\n",
        "        \n",
        "        # applyactivation using sigmoid function\n",
        "        self.activation_function = lambda x: scipy.special.expit(x)\n",
        "        \n",
        "        pass\n",
        "\n",
        "    \n",
        "    # train the neural network\n",
        "    def train(self, inputs_list, targets_list):\n",
        "        # convert inputs list to 2d array\n",
        "        inputs = numpy.array(inputs_list, ndmin=2).T\n",
        "        targets = numpy.array(targets_list, ndmin=2).T\n",
        "        \n",
        "        # calculate signals into hidden layer\n",
        "        hidden_inputs = numpy.dot(self.wih, inputs)\n",
        "        # calculate the signals emerging from hidden layer\n",
        "        hidden_outputs = self.activation_function(hidden_inputs)\n",
        "        \n",
        "        # calculate signals into final output layer\n",
        "        final_inputs = numpy.dot(self.who, hidden_outputs)\n",
        "        # calculate the signals emerging from final output layer\n",
        "        final_outputs = self.activation_function(final_inputs)\n",
        "        \n",
        "        # output layer error is the (target - actual)\n",
        "        output_errors = targets - final_outputs\n",
        "        # hidden layer error is the output_errors, split by weights, recombined at hidden nodes\n",
        "        hidden_errors = numpy.dot(self.who.T, output_errors) \n",
        "        \n",
        "        # update the weights for the links between the hidden and output layers\n",
        "        self.who += self.lr * numpy.dot((output_errors * final_outputs * (1.0 - final_outputs)), numpy.transpose(hidden_outputs))\n",
        "        \n",
        "        # update the weights for the links between the input and hidden layers\n",
        "        self.wih += self.lr * numpy.dot((hidden_errors * hidden_outputs * (1.0 - hidden_outputs)), numpy.transpose(inputs))\n",
        "        \n",
        "        pass\n",
        "\n",
        "    \n",
        "    # query the neural network\n",
        "    def query(self, inputs_list):\n",
        "        # convert inputs list to 2d array\n",
        "        inputs = numpy.array(inputs_list, ndmin=2).T\n",
        "        \n",
        "        # calculate signals into hidden layer\n",
        "        hidden_inputs = numpy.dot(self.wih, inputs)\n",
        "        # calculate the signals emerging from hidden layer\n",
        "        hidden_outputs = self.activation_function(hidden_inputs)\n",
        "        \n",
        "        # calculate signals into final output layer\n",
        "        final_inputs = numpy.dot(self.who, hidden_outputs)\n",
        "        # calculate the signals emerging from final output layer\n",
        "        final_outputs = self.activation_function(final_inputs)\n",
        "        \n",
        "        return final_outputs\n"
      ]
    },
    {
      "cell_type": "code",
      "source": [],
      "metadata": {
        "id": "vkTOVcTrE5P4"
      },
      "id": "vkTOVcTrE5P4",
      "execution_count": null,
      "outputs": []
    },
    {
      "cell_type": "code",
      "execution_count": 18,
      "id": "bad2b52c",
      "metadata": {
        "id": "bad2b52c"
      },
      "outputs": [],
      "source": [
        "# number of input, hidden and output nodes\n",
        "input_nodes = 30\n",
        "hidden_nodes = 4\n",
        "output_nodes = 1\n",
        "\n",
        "# learning rate\n",
        "learning_rate = 0.05\n",
        "\n",
        "# create instance of neural network\n",
        "nn = neuralNetwork(input_nodes,hidden_nodes,output_nodes, learning_rate)"
      ]
    },
    {
      "cell_type": "code",
      "execution_count": 9,
      "id": "80a7799a",
      "metadata": {
        "id": "80a7799a",
        "outputId": "3f6b34ff-ac39-4f7f-bed5-b38c0996a1c0",
        "colab": {
          "base_uri": "https://localhost:8080/"
        }
      },
      "outputs": [
        {
          "output_type": "stream",
          "name": "stdout",
          "text": [
            "['malignant' 'benign']\n"
          ]
        }
      ],
      "source": [
        "from sklearn.datasets import load_breast_cancer\n",
        "from sklearn import preprocessing\n",
        "data = load_breast_cancer()\n",
        "print(data.target_names)\n",
        "\n",
        "X = data.data\n",
        "y = data.target\n",
        "\n",
        "# normalize the data\n",
        "X = preprocessing.normalize(X)\n",
        "\n",
        "# split the data\n",
        "X_train, X_test, y_train, y_test = train_test_split(X, y, test_size=0.3)\n"
      ]
    },
    {
      "cell_type": "code",
      "execution_count": 19,
      "id": "11333a2d",
      "metadata": {
        "id": "11333a2d"
      },
      "outputs": [],
      "source": [
        "# train the neural network\n",
        "\n",
        "# epochs is the number of times the training data set is used for training\n",
        "epochs = 100\n",
        "\n",
        "for instances in range(epochs):\n",
        "    # go through all records in the training data set\n",
        "    y_temp = y_train.reshape(len(y_train),1)\n",
        "    nn.train(X_train,y_temp)\n",
        "    pass"
      ]
    },
    {
      "cell_type": "code",
      "execution_count": 11,
      "id": "c6761217",
      "metadata": {
        "id": "c6761217"
      },
      "outputs": [],
      "source": [
        "# test the neural network\n",
        "\n",
        "# scorecard for how well the network performs, initially empty\n",
        "scorecard = []\n",
        "\n",
        "# go through all the records in the test data set\n",
        "for i in range(len(X_test)):\n",
        "    outputs = nn.query(X_test[i])\n",
        "    outputs = np.where(outputs >= .5, 1, 0)\n",
        "    \n",
        "    if (outputs == y_test[i]):\n",
        "        scorecard.append(1)\n",
        "    else:\n",
        "        scorecard.append(0)\n",
        "        pass\n",
        "    pass"
      ]
    },
    {
      "cell_type": "code",
      "execution_count": 20,
      "id": "49064a96",
      "metadata": {
        "id": "49064a96",
        "outputId": "9b9d3fb6-f80e-4ea1-e1a6-3b36a8df4013",
        "colab": {
          "base_uri": "https://localhost:8080/"
        }
      },
      "outputs": [
        {
          "output_type": "stream",
          "name": "stdout",
          "text": [
            "performance equals:  0.6374269005847953\n"
          ]
        }
      ],
      "source": [
        "# calculate the performance score, the fraction of correct answers\n",
        "scorecard_array = numpy.asarray(scorecard)\n",
        "print (\"performance equals: \", scorecard_array.sum() / scorecard_array.size)"
      ]
    }
  ],
  "metadata": {
    "kernelspec": {
      "display_name": "Python 3 (ipykernel)",
      "language": "python",
      "name": "python3"
    },
    "language_info": {
      "codemirror_mode": {
        "name": "ipython",
        "version": 3
      },
      "file_extension": ".py",
      "mimetype": "text/x-python",
      "name": "python",
      "nbconvert_exporter": "python",
      "pygments_lexer": "ipython3",
      "version": "3.9.7"
    },
    "colab": {
      "provenance": [],
      "include_colab_link": true
    }
  },
  "nbformat": 4,
  "nbformat_minor": 5
}